{
 "cells": [
  {
   "cell_type": "code",
   "execution_count": 1,
   "metadata": {},
   "outputs": [],
   "source": [
    "import pandas as pd"
   ]
  },
  {
   "cell_type": "code",
   "execution_count": 48,
   "metadata": {},
   "outputs": [],
   "source": [
    "def name_to_numbers(letters, alf):\n",
    "    letters = letters.lower()\n",
    "    numbers = []\n",
    "\n",
    "    for letter in letters:\n",
    "        if alf == 'latin':\n",
    "            number = ord(letter) - 96\n",
    "        elif alf == 'russian':\n",
    "            number = ord(letter) - 1071\n",
    "        elif alf == 'bulgarian':\n",
    "            number = ord(letter) - 1071\n",
    "            if number > 28:\n",
    "                number -=1\n",
    "                if number > 30:\n",
    "                    number -=1\n",
    "                \n",
    "        else:\n",
    "            number = ord(letter) - 0\n",
    "        numbers.append(number)\n",
    "\n",
    "    return numbers\n",
    "\n",
    "\n",
    "def mod9(number=int):\n",
    "    return number%9\n",
    "\n",
    "\n",
    "\n",
    "def name_quality(numbers=list):\n",
    "    uniqueNums = set(numbers)\n",
    "    quality = len(list(uniqueNums))\n",
    "    return quality\n",
    "\n",
    "\n",
    "def perfect_name(numbers=list):\n",
    "    perfect = False\n",
    "    if len(numbers) >= 9:\n",
    "        quality = name_quality(numbers)\n",
    "        if quality == 9:\n",
    "            perfect=True\n",
    "    return perfect\n",
    "\n",
    "def get_quality(name, alf):\n",
    "    numbers = name_to_numbers(name, alf)\n",
    "    number9name = [mod9(n) for n in numbers]\n",
    "    quality = name_quality(number9name)\n",
    "    #print(name, numbers, quality)\n",
    "    return quality"
   ]
  },
  {
   "cell_type": "markdown",
   "metadata": {},
   "source": [
    "# Bulgarian names"
   ]
  },
  {
   "cell_type": "code",
   "execution_count": 94,
   "metadata": {},
   "outputs": [],
   "source": [
    "path = '/Users/kivanov/Downloads/all_text.csv'\n",
    "bgDat = pd.read_csv(path, sep='|', header=None, low_memory=False)"
   ]
  },
  {
   "cell_type": "code",
   "execution_count": 95,
   "metadata": {
    "scrolled": true
   },
   "outputs": [
    {
     "data": {
      "text/html": [
       "<div>\n",
       "<style scoped>\n",
       "    .dataframe tbody tr th:only-of-type {\n",
       "        vertical-align: middle;\n",
       "    }\n",
       "\n",
       "    .dataframe tbody tr th {\n",
       "        vertical-align: top;\n",
       "    }\n",
       "\n",
       "    .dataframe thead th {\n",
       "        text-align: right;\n",
       "    }\n",
       "</style>\n",
       "<table border=\"1\" class=\"dataframe\">\n",
       "  <thead>\n",
       "    <tr style=\"text-align: right;\">\n",
       "      <th></th>\n",
       "      <th>0</th>\n",
       "      <th>1</th>\n",
       "      <th>2</th>\n",
       "      <th>3</th>\n",
       "      <th>4</th>\n",
       "      <th>5</th>\n",
       "      <th>6</th>\n",
       "      <th>7</th>\n",
       "      <th>8</th>\n",
       "    </tr>\n",
       "  </thead>\n",
       "  <tbody>\n",
       "    <tr>\n",
       "      <th>0</th>\n",
       "      <td>АДЕЛИНА</td>\n",
       "      <td>ВЕНЦИСЛАВОВА</td>\n",
       "      <td>ВЕЛКОВА</td>\n",
       "      <td>f</td>\n",
       "      <td>26 - Софийски</td>\n",
       "      <td>Елин Пелин</td>\n",
       "      <td>NaN</td>\n",
       "      <td>гр. Елин Пелин</td>\n",
       "      <td>№ 001</td>\n",
       "    </tr>\n",
       "    <tr>\n",
       "      <th>1</th>\n",
       "      <td>АДЕЛИНА</td>\n",
       "      <td>ХРИСТОВА</td>\n",
       "      <td>ГРАХОВСКА</td>\n",
       "      <td>f</td>\n",
       "      <td>26 - Софийски</td>\n",
       "      <td>Елин Пелин</td>\n",
       "      <td>NaN</td>\n",
       "      <td>гр. Елин Пелин</td>\n",
       "      <td>№ 001</td>\n",
       "    </tr>\n",
       "    <tr>\n",
       "      <th>2</th>\n",
       "      <td>АДЕЛИНА</td>\n",
       "      <td>ХРИСТОВА</td>\n",
       "      <td>СТОЯНОВА</td>\n",
       "      <td>f</td>\n",
       "      <td>26 - Софийски</td>\n",
       "      <td>Елин Пелин</td>\n",
       "      <td>NaN</td>\n",
       "      <td>гр. Елин Пелин</td>\n",
       "      <td>№ 001</td>\n",
       "    </tr>\n",
       "    <tr>\n",
       "      <th>3</th>\n",
       "      <td>АДРИАНА</td>\n",
       "      <td>СТИЛИЯНОВА</td>\n",
       "      <td>ЛЮБЕНОВА</td>\n",
       "      <td>f</td>\n",
       "      <td>26 - Софийски</td>\n",
       "      <td>Елин Пелин</td>\n",
       "      <td>NaN</td>\n",
       "      <td>гр. Елин Пелин</td>\n",
       "      <td>№ 001</td>\n",
       "    </tr>\n",
       "    <tr>\n",
       "      <th>4</th>\n",
       "      <td>АЙГЮЛ</td>\n",
       "      <td>АЙДУН</td>\n",
       "      <td>МЕХМЕД</td>\n",
       "      <td>f</td>\n",
       "      <td>26 - Софийски</td>\n",
       "      <td>Елин Пелин</td>\n",
       "      <td>NaN</td>\n",
       "      <td>гр. Елин Пелин</td>\n",
       "      <td>№ 001</td>\n",
       "    </tr>\n",
       "  </tbody>\n",
       "</table>\n",
       "</div>"
      ],
      "text/plain": [
       "         0             1          2  3              4           5    6  \\\n",
       "0  АДЕЛИНА  ВЕНЦИСЛАВОВА    ВЕЛКОВА  f  26 - Софийски  Елин Пелин  NaN   \n",
       "1  АДЕЛИНА      ХРИСТОВА  ГРАХОВСКА  f  26 - Софийски  Елин Пелин  NaN   \n",
       "2  АДЕЛИНА      ХРИСТОВА   СТОЯНОВА  f  26 - Софийски  Елин Пелин  NaN   \n",
       "3  АДРИАНА    СТИЛИЯНОВА   ЛЮБЕНОВА  f  26 - Софийски  Елин Пелин  NaN   \n",
       "4    АЙГЮЛ         АЙДУН     МЕХМЕД  f  26 - Софийски  Елин Пелин  NaN   \n",
       "\n",
       "                7      8  \n",
       "0  гр. Елин Пелин  № 001  \n",
       "1  гр. Елин Пелин  № 001  \n",
       "2  гр. Елин Пелин  № 001  \n",
       "3  гр. Елин Пелин  № 001  \n",
       "4  гр. Елин Пелин  № 001  "
      ]
     },
     "execution_count": 95,
     "metadata": {},
     "output_type": "execute_result"
    }
   ],
   "source": [
    "bgDat.head()"
   ]
  },
  {
   "cell_type": "code",
   "execution_count": 96,
   "metadata": {},
   "outputs": [],
   "source": [
    "sampleBG = bgDat.sample(frac=1)\n",
    "sampeBGmale = sampleBG.loc[bgDat[3]=='m'].copy()\n",
    "sampeBGmaleUnique= sampeBGmale[0].unique()\n"
   ]
  },
  {
   "cell_type": "code",
   "execution_count": 97,
   "metadata": {},
   "outputs": [],
   "source": [
    "sampeBGmaleUnique = pd.DataFrame(sampeBGmaleUnique)"
   ]
  },
  {
   "cell_type": "code",
   "execution_count": 99,
   "metadata": {},
   "outputs": [],
   "source": [
    "sampeBGmaleUnique['quality'] = sampeBGmaleUnique[0].apply(lambda x: get_quality(x, alf='bulgarian'))"
   ]
  },
  {
   "cell_type": "code",
   "execution_count": 103,
   "metadata": {},
   "outputs": [
    {
     "name": "stdout",
     "output_type": "stream",
     "text": [
      "                  name  quality\n",
      "        КРИСТИЯН-МИШЕЛ        9\n",
      "          ГАБРИЕЛ_ЖОАО        9\n",
      "     ПАУЛ_ЕРИК_ГАБРИЕЛ        9\n",
      "  ДЖОНАТАН_ФРАНСУА_ЙУГ        9\n",
      "    АЛЕКСАНДЕР_АСПАРУХ        9\n",
      " КЛИМЕНТ_ПИЕР-МАРИ_КАМ        9\n",
      "          МАЛИКЪАЖДЕРЪ        9\n",
      "         ПЛАМЕН-ВИКТОР        9\n",
      "       БОЖИДАР-АЛХАСАН        9\n",
      "  МИОДЖЕРАЛВОМБО-ПАВЕЛ        9\n"
     ]
    }
   ],
   "source": [
    "sampeBGmaleUnique = sampeBGmaleUnique.sort_values(by = ['quality'], ascending=False)\n",
    "sampeBGmaleUnique = sampeBGmaleUnique.rename(columns={0:'name'})\n",
    "\n",
    "print(sampeBGmaleUnique.head(n=10).to_string(index=False))\n",
    "\n"
   ]
  },
  {
   "cell_type": "markdown",
   "metadata": {},
   "source": [
    "# Russian names"
   ]
  },
  {
   "cell_type": "code",
   "execution_count": 92,
   "metadata": {},
   "outputs": [],
   "source": [
    "path = '/Users/kivanov/Downloads/russian_names.csv'\n",
    "russian = pd.read_csv(path, sep=';')\n",
    "russiancp = russian.copy()\n",
    "russianMales = russian.loc[russiancp['Sex']=='М'].copy()\n",
    "russianMales['quality'] = russianMales['Name'].apply(lambda x: get_quality(x, alf='russian'))\n",
    "russianMales = russianMales.sort_values(by = ['quality'], ascending=False)\n",
    "russianMales = russianMales.drop(russianMales[russianMales['Name']=='Викас&nbsp;'].index)\n",
    "\n"
   ]
  },
  {
   "cell_type": "code",
   "execution_count": 93,
   "metadata": {},
   "outputs": [
    {
     "name": "stdout",
     "output_type": "stream",
     "text": [
      "            name  quality\n",
      "     Куртджемиль        9\n",
      "       Правдомир        8\n",
      "       Франчишек        8\n",
      " Франческохавьер        8\n",
      "        Зелимкан        8\n",
      "        Кершихан        8\n",
      "      Гаджикерим        8\n",
      "      Каратпегин        8\n",
      "      Гильдегард        8\n",
      "   Любомиртеодор        8\n"
     ]
    }
   ],
   "source": [
    "russianMales = russianMales.rename(columns={'Name':'name'})\n",
    "print(russianMales.head(n=10)[['name', 'quality']].to_string(index=False))"
   ]
  },
  {
   "cell_type": "markdown",
   "metadata": {},
   "source": [
    "# English names"
   ]
  },
  {
   "cell_type": "code",
   "execution_count": 77,
   "metadata": {},
   "outputs": [],
   "source": [
    "path = '/Users/kivanov/Downloads/baby-names.csv'\n",
    "\n",
    "english = pd.read_csv(path)\n",
    "\n",
    "englishMales = english.loc[english.sex=='boy'].copy()\n",
    "englishMalesUnique = pd.DataFrame(englishMales['name'].unique())\n",
    "englishMalesUnique = englishMalesUnique.rename(columns={0:'name'})"
   ]
  },
  {
   "cell_type": "code",
   "execution_count": 78,
   "metadata": {},
   "outputs": [],
   "source": [
    "englishMalesUnique['quality'] = englishMalesUnique['name'].apply(lambda x: get_quality(x, alf='latin'))\n",
    "englishMalesUnique = englishMalesUnique.sort_values(by = ['quality'], ascending=False)\n"
   ]
  },
  {
   "cell_type": "code",
   "execution_count": 83,
   "metadata": {},
   "outputs": [
    {
     "name": "stdout",
     "output_type": "stream",
     "text": [
      "        name  quality\n",
      "  Fitzgerald        9\n",
      "  Cristopher        8\n",
      "    Thorwald        8\n",
      " Bartholomew        8\n",
      " Christopher        8\n",
      "  Christoper        8\n",
      "    Randolph        8\n",
      "    Hamilton        8\n",
      "    Rosevelt        7\n",
      "     Bradley        7\n"
     ]
    }
   ],
   "source": [
    "print(englishMalesUnique.head(n=10).to_string(index=False))"
   ]
  },
  {
   "cell_type": "code",
   "execution_count": null,
   "metadata": {},
   "outputs": [],
   "source": []
  }
 ],
 "metadata": {
  "kernelspec": {
   "display_name": "r2py",
   "language": "python",
   "name": "r2py"
  },
  "language_info": {
   "codemirror_mode": {
    "name": "ipython",
    "version": 3
   },
   "file_extension": ".py",
   "mimetype": "text/x-python",
   "name": "python",
   "nbconvert_exporter": "python",
   "pygments_lexer": "ipython3",
   "version": "3.7.3"
  },
  "toc": {
   "base_numbering": 1,
   "nav_menu": {},
   "number_sections": true,
   "sideBar": true,
   "skip_h1_title": false,
   "title_cell": "Table of Contents",
   "title_sidebar": "Contents",
   "toc_cell": false,
   "toc_position": {},
   "toc_section_display": true,
   "toc_window_display": false
  }
 },
 "nbformat": 4,
 "nbformat_minor": 2
}
